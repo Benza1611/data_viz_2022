{
  "nbformat": 4,
  "nbformat_minor": 0,
  "metadata": {
    "colab": {
      "name": "Basic Programming Concepts.ipynb",
      "provenance": [],
      "authorship_tag": "ABX9TyOHndBTji3qyWrOZoa2mjB5",
      "include_colab_link": true
    },
    "kernelspec": {
      "name": "python3",
      "display_name": "Python 3"
    },
    "language_info": {
      "name": "python"
    }
  },
  "cells": [
    {
      "cell_type": "markdown",
      "metadata": {
        "id": "view-in-github",
        "colab_type": "text"
      },
      "source": [
        "<a href=\"https://colab.research.google.com/github/Benza1611/data_viz_2022/blob/main/Basic_Programming_Concepts.ipynb\" target=\"_parent\"><img src=\"https://colab.research.google.com/assets/colab-badge.svg\" alt=\"Open In Colab\"/></a>"
      ]
    },
    {
      "cell_type": "markdown",
      "source": [
        "#Function ($f(x)=y$)"
      ],
      "metadata": {
        "id": "P_kfCezeDjS8"
      }
    },
    {
      "cell_type": "markdown",
      "source": [
        "\n",
        "\n",
        "```python\n",
        "def function (inputx):\n",
        "    #do something with input_x yo det input_y\n",
        "    return output_y\n",
        "```\n",
        "\n"
      ],
      "metadata": {
        "id": "kMBNZ8CxEGbp"
      }
    },
    {
      "cell_type": "markdown",
      "source": [
        "$f_1(x)=x^2+75$"
      ],
      "metadata": {
        "id": "sZtDs6d3F2a5"
      }
    },
    {
      "cell_type": "code",
      "source": [
        "def function_f1(x):\n",
        "    a = x**2\n",
        "    y = a +75\n",
        "    return y\n",
        "print('done!')"
      ],
      "metadata": {
        "colab": {
          "base_uri": "https://localhost:8080/"
        },
        "id": "d33xizAOD_O0",
        "outputId": "4a9dc991-8f02-4d4b-d3c0-659d3faf7774"
      },
      "execution_count": 3,
      "outputs": [
        {
          "output_type": "stream",
          "name": "stdout",
          "text": [
            "done!\n"
          ]
        }
      ]
    },
    {
      "cell_type": "code",
      "source": [
        "function_f1(3)"
      ],
      "metadata": {
        "colab": {
          "base_uri": "https://localhost:8080/"
        },
        "id": "R2oVWcF5D_HO",
        "outputId": "9b7fcc75-3313-46c4-cfca-e6cf1e8a40f0"
      },
      "execution_count": 4,
      "outputs": [
        {
          "output_type": "execute_result",
          "data": {
            "text/plain": [
              "84"
            ]
          },
          "metadata": {},
          "execution_count": 4
        }
      ]
    },
    {
      "cell_type": "markdown",
      "source": [
        "function มีส่วนสำคัญทั้งหมด 4 ส่วน\n",
        "\n",
        "1. บอก python ว่าเราจะเขียนฟังก์ชั่น ชื่ออะไร  `def function_name()`: (ขาดไม่ได้)\n",
        "2. กำหนดตัวแปรที่จะเป็น input  _Input_ (ขาดได้)\n",
        "3. ส่วนประมวลผล do_something with _Input_ to get _Output_ (ขาดไม่ได้)\n",
        "4. ส่วน output `return` _Output_(ขาดได้)"
      ],
      "metadata": {
        "id": "tIg_KSHUHP1M"
      }
    },
    {
      "cell_type": "markdown",
      "source": [
        "###ตัวอย่าง function ที่มีส่วนประกอบครบ"
      ],
      "metadata": {
        "id": "54N_OO_qIAJn"
      }
    },
    {
      "cell_type": "code",
      "source": [
        "def function_f1(x):\n",
        "    a = x**2\n",
        "    y = a +75\n",
        "    return y"
      ],
      "metadata": {
        "id": "DkByVHeuD--I"
      },
      "execution_count": 5,
      "outputs": []
    },
    {
      "cell_type": "markdown",
      "source": [
        "###ตัวอน่าง function ที่ไม่มี input"
      ],
      "metadata": {
        "id": "AH8YDfOIIMkb"
      }
    },
    {
      "cell_type": "code",
      "source": [
        "def pi_v():\n",
        "    y = 3.14159265359\n",
        "    return y"
      ],
      "metadata": {
        "id": "vZyn_4TAD-7S"
      },
      "execution_count": 13,
      "outputs": []
    },
    {
      "cell_type": "code",
      "source": [
        "piv = pi_v()\n",
        "circle_area_r2 = piv*(2**2)\n",
        "print(circle_area_r2) "
      ],
      "metadata": {
        "colab": {
          "base_uri": "https://localhost:8080/"
        },
        "id": "rpKJyvSBD-mo",
        "outputId": "cd7166d8-f982-48cb-ef93-bc80eca91eec"
      },
      "execution_count": 14,
      "outputs": [
        {
          "output_type": "stream",
          "name": "stdout",
          "text": [
            "12.56637061436\n"
          ]
        }
      ]
    },
    {
      "cell_type": "markdown",
      "source": [
        "### Function ไม่มี process ไม่ได้"
      ],
      "metadata": {
        "id": "mNSMOcPTLFdv"
      }
    },
    {
      "cell_type": "code",
      "source": [
        "def function_a():"
      ],
      "metadata": {
        "colab": {
          "base_uri": "https://localhost:8080/",
          "height": 131
        },
        "id": "UaGRzxqAD-hw",
        "outputId": "538e774f-c4b6-4ce2-ce6b-ff0f41ca28b8"
      },
      "execution_count": 15,
      "outputs": [
        {
          "output_type": "error",
          "ename": "SyntaxError",
          "evalue": "ignored",
          "traceback": [
            "\u001b[0;36m  File \u001b[0;32m\"<ipython-input-15-07a0750214a8>\"\u001b[0;36m, line \u001b[0;32m1\u001b[0m\n\u001b[0;31m    def function_a():\u001b[0m\n\u001b[0m                     ^\u001b[0m\n\u001b[0;31mSyntaxError\u001b[0m\u001b[0;31m:\u001b[0m unexpected EOF while parsing\n"
          ]
        }
      ]
    },
    {
      "cell_type": "markdown",
      "source": [
        "###ตัวอย่าง Function ที่ไม่มี output"
      ],
      "metadata": {
        "id": "6nOtLUneLJ_2"
      }
    },
    {
      "cell_type": "code",
      "source": [
        "def print_name_id(name,id):\n",
        "    print(f'ชื่อ {name} รหัสประจำตัว {id}')"
      ],
      "metadata": {
        "id": "UHpB_Rk-D-fl"
      },
      "execution_count": 16,
      "outputs": []
    },
    {
      "cell_type": "code",
      "source": [
        "print_name_id('เบญญาภา','623020527-6')"
      ],
      "metadata": {
        "colab": {
          "base_uri": "https://localhost:8080/"
        },
        "id": "qpCZ3sb_D-c-",
        "outputId": "8abfcec8-e955-4a42-994f-5128c1dad0b2"
      },
      "execution_count": 17,
      "outputs": [
        {
          "output_type": "stream",
          "name": "stdout",
          "text": [
            "ชื่อ เบญญาภา รหัสประจำตัว 623020527-6\n"
          ]
        }
      ]
    },
    {
      "cell_type": "code",
      "source": [
        "a = print_name_id('เบญญาภา','623020527-6')"
      ],
      "metadata": {
        "colab": {
          "base_uri": "https://localhost:8080/"
        },
        "id": "1PuDyhcaD-aL",
        "outputId": "8742b1fa-bfe9-45c9-aaf3-abf4c5003553"
      },
      "execution_count": 18,
      "outputs": [
        {
          "output_type": "stream",
          "name": "stdout",
          "text": [
            "ชื่อ เบญญาภา รหัสประจำตัว 623020527-6\n"
          ]
        }
      ]
    },
    {
      "cell_type": "code",
      "source": [
        "a"
      ],
      "metadata": {
        "id": "nV3usuv0D-Xp"
      },
      "execution_count": 19,
      "outputs": []
    },
    {
      "cell_type": "code",
      "source": [
        ""
      ],
      "metadata": {
        "id": "MEjXqBwBLeJQ"
      },
      "execution_count": null,
      "outputs": []
    },
    {
      "cell_type": "code",
      "source": [
        ""
      ],
      "metadata": {
        "id": "EBCc-4sWLeGQ"
      },
      "execution_count": null,
      "outputs": []
    },
    {
      "cell_type": "code",
      "source": [
        ""
      ],
      "metadata": {
        "id": "VEYDbeLpLeDs"
      },
      "execution_count": null,
      "outputs": []
    },
    {
      "cell_type": "code",
      "source": [
        ""
      ],
      "metadata": {
        "id": "Awo6tO5OLeBR"
      },
      "execution_count": null,
      "outputs": []
    },
    {
      "cell_type": "code",
      "source": [
        ""
      ],
      "metadata": {
        "id": "t8Dr9HC9Ld8c"
      },
      "execution_count": null,
      "outputs": []
    },
    {
      "cell_type": "code",
      "source": [
        ""
      ],
      "metadata": {
        "id": "-ZKNfJCgLd5y"
      },
      "execution_count": null,
      "outputs": []
    },
    {
      "cell_type": "markdown",
      "source": [
        "#Looping(for)"
      ],
      "metadata": {
        "id": "3rDUjKGIDmuX"
      }
    },
    {
      "cell_type": "markdown",
      "source": [
        "#Conditional Statement(if)"
      ],
      "metadata": {
        "id": "4K8gZx0XDtBD"
      }
    },
    {
      "cell_type": "code",
      "execution_count": null,
      "metadata": {
        "id": "DyGxniEEDUmA"
      },
      "outputs": [],
      "source": [
        ""
      ]
    }
  ]
}